{
 "cells": [
  {
   "cell_type": "code",
   "execution_count": null,
   "metadata": {},
   "outputs": [
    {
     "name": "stdout",
     "output_type": "stream",
     "text": [
      "1) Совокупность взаимосвязанных элементов (компонентов), действующих как единое целое.\n",
      "a) Система.\n",
      "б) Компонент.\n",
      "в) Cистемология.\n",
      "г) Cистемный анализ.\n"
     ]
    }
   ],
   "source": [
    "score = 0\n",
    "count = 0\n",
    "f = open(u'D:/q.txt','r')\n",
    "while True:\n",
    "    question = f.readline().strip()\n",
    "    if(not question):\n",
    "        break\n",
    "    answer1 = f.readline().strip()\n",
    "    answer2 = f.readline().strip()\n",
    "    answer3 = f.readline().strip()\n",
    "    answer4 = f.readline().strip()\n",
    "    kod = f.readline().strip()\n",
    "    \n",
    "    print(question)\n",
    "    print(answer1)\n",
    "    print(answer2)\n",
    "    print(answer3)\n",
    "    print(answer4)\n",
    "    k = str(input('Enter number of right(on your opinion) answer and press Enter :\\n'))\n",
    "    \n",
    "    count +=1\n",
    "    if(k==kod):\n",
    "        score +=1\n",
    "        print('YES! :)')\n",
    "    else:\n",
    "        print('No, right answer ', kod,' ;)')\n",
    "        \n",
    "print('Your SCORE :', str(score), 'with', str(count),'questions !')"
   ]
  },
  {
   "cell_type": "code",
   "execution_count": null,
   "metadata": {},
   "outputs": [],
   "source": []
  }
 ],
 "metadata": {
  "kernelspec": {
   "display_name": "Python 3",
   "language": "python",
   "name": "python3"
  },
  "language_info": {
   "codemirror_mode": {
    "name": "ipython",
    "version": 3
   },
   "file_extension": ".py",
   "mimetype": "text/x-python",
   "name": "python",
   "nbconvert_exporter": "python",
   "pygments_lexer": "ipython3",
   "version": "3.7.0"
  }
 },
 "nbformat": 4,
 "nbformat_minor": 2
}
