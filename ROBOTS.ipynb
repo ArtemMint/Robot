{
 "cells": [
  {
   "cell_type": "code",
   "execution_count": 1,
   "metadata": {},
   "outputs": [],
   "source": [
    "import hashlib\n",
    "import weakref"
   ]
  },
  {
   "cell_type": "code",
   "execution_count": 2,
   "metadata": {},
   "outputs": [],
   "source": [
    "class RobotExist(Exception):\n",
    "    def __init__(self, msg):\n",
    "        super()\n",
    "        \n",
    "class Robot:\n",
    "    \n",
    "    population = {}\n",
    "    \n",
    "    def __init__(self,name):\n",
    "        \n",
    "        self.name = name\n",
    "        self.hash = hashlib.md5(name.encode()).hexdigest()\n",
    "        \n",
    "        try:\n",
    "            if Robot.population.get(self.hash): raise RobotExist(f\"Robot {self.name} already exist!\")\n",
    "            Robot.population[self.hash] = weakref.ref(self)\n",
    "            print('Initializaion',self)\n",
    "        except RobotExist:\n",
    "            print(f'Robot {self.name} already exist!')\n",
    "            #del Robot.population[self.hash]\n",
    "            #del self\n",
    "              \n",
    "    def __del__(self):\n",
    "        print('√ {} destroyed!'.format(self))\n",
    "        del Robot.population[self.hash]\n",
    "        \n",
    "    def sayHi(self):\n",
    "        print('Hi ☺! My master call me {}'.format(self.name))\n",
    "    \n",
    "    def __str__(self):\n",
    "        return f\"droid/ {self.hash} => {self.name}\"\n",
    "    \n",
    "    @staticmethod\n",
    "    def units():\n",
    "        print('List of droids:')\n",
    "        for robot in Robot.population:\n",
    "            print(Robot.population[robot], robot)\n"
   ]
  },
  {
   "cell_type": "code",
   "execution_count": 3,
   "metadata": {},
   "outputs": [
    {
     "name": "stdout",
     "output_type": "stream",
     "text": [
      "Initializaion droid/ d0f59baadadd3349e4a9b2674bcceae8 => Johnny\n"
     ]
    }
   ],
   "source": [
    "droid01 = Robot('Johnny')"
   ]
  },
  {
   "cell_type": "code",
   "execution_count": 4,
   "metadata": {},
   "outputs": [
    {
     "name": "stdout",
     "output_type": "stream",
     "text": [
      "Initializaion droid/ aba4939a6d5f916e30cec10c527ef4b7 => Crhbgnjybv\n"
     ]
    }
   ],
   "source": [
    "droid02 = Robot('Crhbgnjybv')"
   ]
  },
  {
   "cell_type": "code",
   "execution_count": null,
   "metadata": {},
   "outputs": [],
   "source": []
  },
  {
   "cell_type": "code",
   "execution_count": 5,
   "metadata": {},
   "outputs": [
    {
     "name": "stdout",
     "output_type": "stream",
     "text": [
      "Robot Johnny already exist!\n"
     ]
    }
   ],
   "source": [
    "droid03 = Robot('Johnny')"
   ]
  },
  {
   "cell_type": "code",
   "execution_count": 6,
   "metadata": {},
   "outputs": [
    {
     "name": "stdout",
     "output_type": "stream",
     "text": [
      "List of droids:\n",
      "<weakref at 0x00000272C38DD958; to 'Robot' at 0x00000272C3913AC8> d0f59baadadd3349e4a9b2674bcceae8\n",
      "<weakref at 0x00000272C39E4368; to 'Robot' at 0x00000272C3904F60> aba4939a6d5f916e30cec10c527ef4b7\n"
     ]
    }
   ],
   "source": [
    "Robot.units()"
   ]
  },
  {
   "cell_type": "code",
   "execution_count": null,
   "metadata": {},
   "outputs": [],
   "source": []
  },
  {
   "cell_type": "code",
   "execution_count": null,
   "metadata": {},
   "outputs": [],
   "source": []
  }
 ],
 "metadata": {
  "kernelspec": {
   "display_name": "Python 3",
   "language": "python",
   "name": "python3"
  },
  "language_info": {
   "codemirror_mode": {
    "name": "ipython",
    "version": 3
   },
   "file_extension": ".py",
   "mimetype": "text/x-python",
   "name": "python",
   "nbconvert_exporter": "python",
   "pygments_lexer": "ipython3",
   "version": "3.7.0"
  }
 },
 "nbformat": 4,
 "nbformat_minor": 2
}
